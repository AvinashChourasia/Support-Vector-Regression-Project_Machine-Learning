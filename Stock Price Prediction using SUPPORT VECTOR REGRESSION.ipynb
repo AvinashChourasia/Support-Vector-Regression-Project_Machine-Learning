{
 "cells": [
  {
   "cell_type": "markdown",
   "id": "d19a971f",
   "metadata": {},
   "source": [
    "# **Stock Price Prediction using SUPPORT VECTOR REGRESSION**"
   ]
  },
  {
   "cell_type": "code",
   "execution_count": 2,
   "id": "9793243f",
   "metadata": {},
   "outputs": [],
   "source": [
    "import pandas as pd\n",
    "import numpy as np"
   ]
  },
  {
   "cell_type": "code",
   "execution_count": 3,
   "id": "9da30bca",
   "metadata": {},
   "outputs": [],
   "source": [
    "dataset = pd.read_csv('data.csv')"
   ]
  },
  {
   "cell_type": "code",
   "execution_count": 4,
   "id": "95420318",
   "metadata": {},
   "outputs": [
    {
     "name": "stdout",
     "output_type": "stream",
     "text": [
      "(94, 2)\n",
      "            x           y\n",
      "0  168.181818  160.840244\n",
      "1  187.878788  159.413657\n",
      "2  207.575758  157.136809\n",
      "3  227.272727  159.357847\n",
      "4  246.969697  157.542862\n"
     ]
    }
   ],
   "source": [
    "print(dataset.shape)\n",
    "print(dataset.head(5))"
   ]
  },
  {
   "cell_type": "code",
   "execution_count": 5,
   "id": "39160a7e",
   "metadata": {},
   "outputs": [
    {
     "data": {
      "text/plain": [
       "array([[ 168.18181818],\n",
       "       [ 187.87878788],\n",
       "       [ 207.57575758],\n",
       "       [ 227.27272727],\n",
       "       [ 246.96969697],\n",
       "       [ 266.66666667],\n",
       "       [ 286.36363636],\n",
       "       [ 306.06060606],\n",
       "       [ 325.75757576],\n",
       "       [ 345.45454545],\n",
       "       [ 365.15151515],\n",
       "       [ 384.84848485],\n",
       "       [ 404.54545455],\n",
       "       [ 424.24242424],\n",
       "       [ 443.93939394],\n",
       "       [ 463.63636364],\n",
       "       [ 483.33333333],\n",
       "       [ 503.03030303],\n",
       "       [ 522.72727273],\n",
       "       [ 542.42424242],\n",
       "       [ 562.12121212],\n",
       "       [ 581.81818182],\n",
       "       [ 601.51515152],\n",
       "       [ 621.21212121],\n",
       "       [ 640.90909091],\n",
       "       [ 660.60606061],\n",
       "       [ 680.3030303 ],\n",
       "       [ 700.        ],\n",
       "       [ 719.6969697 ],\n",
       "       [ 739.39393939],\n",
       "       [ 759.09090909],\n",
       "       [ 778.78787879],\n",
       "       [ 798.48484848],\n",
       "       [ 818.18181818],\n",
       "       [ 837.87878788],\n",
       "       [ 857.57575758],\n",
       "       [ 877.27272727],\n",
       "       [ 896.96969697],\n",
       "       [ 916.66666667],\n",
       "       [ 936.36363636],\n",
       "       [ 956.06060606],\n",
       "       [ 975.75757576],\n",
       "       [ 995.45454545],\n",
       "       [1015.15151515],\n",
       "       [1034.84848485],\n",
       "       [1054.54545455],\n",
       "       [1074.24242424],\n",
       "       [1093.93939394],\n",
       "       [1113.63636364],\n",
       "       [1133.33333333],\n",
       "       [1153.03030303],\n",
       "       [1172.72727273],\n",
       "       [1192.42424242],\n",
       "       [1212.12121212],\n",
       "       [1231.81818182],\n",
       "       [1251.51515152],\n",
       "       [1271.21212121],\n",
       "       [1290.90909091],\n",
       "       [1310.60606061],\n",
       "       [1330.3030303 ],\n",
       "       [1350.        ],\n",
       "       [1369.6969697 ],\n",
       "       [1389.39393939],\n",
       "       [1409.09090909],\n",
       "       [1428.78787879],\n",
       "       [1448.48484848],\n",
       "       [1468.18181818],\n",
       "       [1487.87878788],\n",
       "       [1507.57575758],\n",
       "       [1527.27272727],\n",
       "       [1546.96969697],\n",
       "       [1566.66666667],\n",
       "       [1586.36363636],\n",
       "       [1606.06060606],\n",
       "       [1625.75757576],\n",
       "       [1645.45454545],\n",
       "       [1665.15151515],\n",
       "       [1684.84848485],\n",
       "       [1704.54545455],\n",
       "       [1724.24242424],\n",
       "       [1743.93939394],\n",
       "       [1763.63636364],\n",
       "       [1783.33333333],\n",
       "       [1803.03030303],\n",
       "       [1822.72727273],\n",
       "       [1842.42424242],\n",
       "       [1862.12121212],\n",
       "       [1881.81818182],\n",
       "       [1901.51515152],\n",
       "       [1921.21212121],\n",
       "       [1940.90909091],\n",
       "       [1960.60606061],\n",
       "       [1980.3030303 ],\n",
       "       [2000.        ]])"
      ]
     },
     "execution_count": 5,
     "metadata": {},
     "output_type": "execute_result"
    }
   ],
   "source": [
    "X = dataset.iloc[:, :-1].values\n",
    "X"
   ]
  },
  {
   "cell_type": "code",
   "execution_count": 6,
   "id": "2780bc3c",
   "metadata": {},
   "outputs": [
    {
     "data": {
      "text/plain": [
       "array([160.84024381, 159.41365734, 157.1368088 , 159.35784736,\n",
       "       157.54286158, 157.73520716, 159.34756091, 155.23404557,\n",
       "       155.80774009, 158.3299704 , 157.62585291, 160.47697951,\n",
       "       158.22940639, 157.41781684, 163.37069148, 160.18481104,\n",
       "       160.96838974, 158.18080666, 160.13850728, 161.6460876 ,\n",
       "       159.31922497, 162.56957785, 160.81387414, 161.62873371,\n",
       "       161.20567768, 166.31061698, 162.77603585, 160.88457814,\n",
       "       164.84205952, 160.95225209, 164.00863628, 159.86853854,\n",
       "       161.32847639, 164.57554065, 165.85572104, 164.91849414,\n",
       "       164.54143071, 164.36748958, 162.20962269, 163.92394795,\n",
       "       164.63932852, 167.87182021, 166.64178203, 162.62543484,\n",
       "       166.99665279, 165.77528998, 165.38858024, 168.16274652,\n",
       "       169.19836268, 169.19589357, 165.85186798, 167.10884798,\n",
       "       168.58676929, 170.07230238, 167.35983334, 168.14383356,\n",
       "       166.49945126, 166.51667766, 170.73111225, 172.01551036,\n",
       "       169.35597976, 171.70403549, 170.61721144, 168.80066958,\n",
       "       171.01067   , 173.56092162, 170.6101661 , 174.00807519,\n",
       "       165.83626737, 172.91653228, 171.64379111, 171.06865197,\n",
       "       172.04715792, 168.08546823, 171.81823198, 173.1687706 ,\n",
       "       175.60730324, 171.81194441, 171.42846734, 172.23891016,\n",
       "       175.27019817, 174.29386586, 172.77381293, 175.0568379 ,\n",
       "       174.42142783, 176.36153241, 173.21710593, 174.16285752,\n",
       "       174.23093521, 172.28509132, 176.00133146, 176.12817115,\n",
       "       175.81325722, 175.53082573])"
      ]
     },
     "execution_count": 6,
     "metadata": {},
     "output_type": "execute_result"
    }
   ],
   "source": [
    "Y = dataset.iloc[:, -1].values\n",
    "Y"
   ]
  },
  {
   "cell_type": "markdown",
   "id": "21e11efb",
   "metadata": {},
   "source": [
    "# *Splitting Dataset for Testing our Model*"
   ]
  },
  {
   "cell_type": "code",
   "execution_count": 7,
   "id": "97b85fc9",
   "metadata": {},
   "outputs": [],
   "source": [
    "from sklearn.model_selection import train_test_split\n",
    "x_train,x_test,y_train,y_test = train_test_split(X,Y,test_size=0.20,random_state=0)"
   ]
  },
  {
   "cell_type": "markdown",
   "id": "4a4b332a",
   "metadata": {},
   "source": [
    "# *Training Dataset using Support Vector Regression*"
   ]
  },
  {
   "cell_type": "code",
   "execution_count": 8,
   "id": "d4f6c9d9",
   "metadata": {},
   "outputs": [
    {
     "data": {
      "text/plain": [
       "SVR()"
      ]
     },
     "execution_count": 8,
     "metadata": {},
     "output_type": "execute_result"
    }
   ],
   "source": [
    "from sklearn.svm import SVR\n",
    "model = SVR()\n",
    "model.fit(x_train,y_train)"
   ]
  },
  {
   "cell_type": "markdown",
   "id": "63c32a4e",
   "metadata": {},
   "source": [
    "# *Prediction for all test data for validation*"
   ]
  },
  {
   "cell_type": "code",
   "execution_count": 9,
   "id": "0726be32",
   "metadata": {},
   "outputs": [],
   "source": [
    "ypred = model.predict(x_test)"
   ]
  },
  {
   "cell_type": "markdown",
   "id": "1c785a5b",
   "metadata": {},
   "source": [
    "# *Evaluate accuracy for the model*"
   ]
  },
  {
   "cell_type": "code",
   "execution_count": 10,
   "id": "b41b0e5e",
   "metadata": {},
   "outputs": [
    {
     "name": "stdout",
     "output_type": "stream",
     "text": [
      "Root Mean Square Error: 2.3594718844452056\n",
      "R2Score 86.64242653738367\n"
     ]
    }
   ],
   "source": [
    "from sklearn.metrics import r2_score,mean_squared_error\n",
    "mse = mean_squared_error(y_test,ypred)\n",
    "rmse=np.sqrt(mse)\n",
    "print(\"Root Mean Square Error:\",rmse)\n",
    "r2score = r2_score(y_test,ypred)\n",
    "print(\"R2Score\",r2score*100)"
   ]
  },
  {
   "cell_type": "code",
   "execution_count": null,
   "id": "e3a8116c",
   "metadata": {},
   "outputs": [],
   "source": []
  },
  {
   "cell_type": "code",
   "execution_count": null,
   "id": "377b3953",
   "metadata": {},
   "outputs": [],
   "source": []
  },
  {
   "cell_type": "code",
   "execution_count": null,
   "id": "295b6666",
   "metadata": {},
   "outputs": [],
   "source": []
  }
 ],
 "metadata": {
  "kernelspec": {
   "display_name": "Python 3 (ipykernel)",
   "language": "python",
   "name": "python3"
  },
  "language_info": {
   "codemirror_mode": {
    "name": "ipython",
    "version": 3
   },
   "file_extension": ".py",
   "mimetype": "text/x-python",
   "name": "python",
   "nbconvert_exporter": "python",
   "pygments_lexer": "ipython3",
   "version": "3.9.7"
  }
 },
 "nbformat": 4,
 "nbformat_minor": 5
}
